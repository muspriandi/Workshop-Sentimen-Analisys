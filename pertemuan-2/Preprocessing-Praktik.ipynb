{
 "cells": [
  {
   "cell_type": "code",
   "execution_count": 4,
   "id": "e133b71c",
   "metadata": {},
   "outputs": [],
   "source": [
    "import pandas"
   ]
  },
  {
   "cell_type": "code",
   "execution_count": 97,
   "id": "e71fe8fc",
   "metadata": {},
   "outputs": [],
   "source": [
    "# opsional dijalankan hanya ketika error saat read excel\n",
    "pip install xlrd"
   ]
  },
  {
   "cell_type": "markdown",
   "id": "e57fab97",
   "metadata": {},
   "source": [
    " ### Contoh Stopword"
   ]
  },
  {
   "cell_type": "code",
   "execution_count": 92,
   "id": "8e0d5154",
   "metadata": {},
   "outputs": [
    {
     "data": {
      "text/html": [
       "<div>\n",
       "<style scoped>\n",
       "    .dataframe tbody tr th:only-of-type {\n",
       "        vertical-align: middle;\n",
       "    }\n",
       "\n",
       "    .dataframe tbody tr th {\n",
       "        vertical-align: top;\n",
       "    }\n",
       "\n",
       "    .dataframe thead th {\n",
       "        text-align: right;\n",
       "    }\n",
       "</style>\n",
       "<table border=\"1\" class=\"dataframe\">\n",
       "  <thead>\n",
       "    <tr style=\"text-align: right;\">\n",
       "      <th></th>\n",
       "      <th>stopword</th>\n",
       "    </tr>\n",
       "  </thead>\n",
       "  <tbody>\n",
       "    <tr>\n",
       "      <th>0</th>\n",
       "      <td>ada</td>\n",
       "    </tr>\n",
       "    <tr>\n",
       "      <th>1</th>\n",
       "      <td>adalah</td>\n",
       "    </tr>\n",
       "    <tr>\n",
       "      <th>2</th>\n",
       "      <td>adapun</td>\n",
       "    </tr>\n",
       "    <tr>\n",
       "      <th>3</th>\n",
       "      <td>agak</td>\n",
       "    </tr>\n",
       "    <tr>\n",
       "      <th>4</th>\n",
       "      <td>agar</td>\n",
       "    </tr>\n",
       "    <tr>\n",
       "      <th>...</th>\n",
       "      <td>...</td>\n",
       "    </tr>\n",
       "    <tr>\n",
       "      <th>204</th>\n",
       "      <td>wong</td>\n",
       "    </tr>\n",
       "    <tr>\n",
       "      <th>205</th>\n",
       "      <td>ya</td>\n",
       "    </tr>\n",
       "    <tr>\n",
       "      <th>206</th>\n",
       "      <td>yaitu</td>\n",
       "    </tr>\n",
       "    <tr>\n",
       "      <th>207</th>\n",
       "      <td>yakni</td>\n",
       "    </tr>\n",
       "    <tr>\n",
       "      <th>208</th>\n",
       "      <td>yang</td>\n",
       "    </tr>\n",
       "  </tbody>\n",
       "</table>\n",
       "<p>209 rows × 1 columns</p>\n",
       "</div>"
      ],
      "text/plain": [
       "    stopword\n",
       "0        ada\n",
       "1     adalah\n",
       "2     adapun\n",
       "3       agak\n",
       "4       agar\n",
       "..       ...\n",
       "204     wong\n",
       "205       ya\n",
       "206    yaitu\n",
       "207    yakni\n",
       "208     yang\n",
       "\n",
       "[209 rows x 1 columns]"
      ]
     },
     "execution_count": 92,
     "metadata": {},
     "output_type": "execute_result"
    }
   ],
   "source": [
    "dfStopword = pandas.read_excel('stopword - 209.xls')\n",
    "\n",
    "dfStopword"
   ]
  },
  {
   "cell_type": "code",
   "execution_count": 14,
   "id": "b2773adb",
   "metadata": {},
   "outputs": [],
   "source": [
    "# regular expression (regex)\n",
    "import re"
   ]
  },
  {
   "cell_type": "code",
   "execution_count": 84,
   "id": "4b38b8cb",
   "metadata": {},
   "outputs": [
    {
     "data": {
      "text/plain": [
       "'belajar  rumah'"
      ]
     },
     "execution_count": 84,
     "metadata": {},
     "output_type": "execute_result"
    }
   ],
   "source": [
    "textTweet = 'belajar di rumah'\n",
    "# Output yang diharapkan : 'belajar  rumah'\n",
    "\n",
    "for index in range(len(dfStopword['stopword'])):\n",
    "    if dfStopword['stopword'][index] in textTweet:\n",
    "        # TRUE\n",
    "        # sub = substring\n",
    "        textTweet = re.sub(R'\\b{}\\b'.format(dfStopword['stopword'][index]), ' ', textTweet)\n",
    "\n",
    "textTweet"
   ]
  },
  {
   "cell_type": "markdown",
   "id": "f57f2a98",
   "metadata": {},
   "source": [
    "### Contoh Slangword"
   ]
  },
  {
   "cell_type": "code",
   "execution_count": 67,
   "id": "79be6a9b",
   "metadata": {},
   "outputs": [
    {
     "data": {
      "text/html": [
       "<div>\n",
       "<style scoped>\n",
       "    .dataframe tbody tr th:only-of-type {\n",
       "        vertical-align: middle;\n",
       "    }\n",
       "\n",
       "    .dataframe tbody tr th {\n",
       "        vertical-align: top;\n",
       "    }\n",
       "\n",
       "    .dataframe thead th {\n",
       "        text-align: right;\n",
       "    }\n",
       "</style>\n",
       "<table border=\"1\" class=\"dataframe\">\n",
       "  <thead>\n",
       "    <tr style=\"text-align: right;\">\n",
       "      <th></th>\n",
       "      <th>slangword</th>\n",
       "      <th>kata_asli</th>\n",
       "    </tr>\n",
       "  </thead>\n",
       "  <tbody>\n",
       "    <tr>\n",
       "      <th>0</th>\n",
       "      <td>ababil</td>\n",
       "      <td>abg labil</td>\n",
       "    </tr>\n",
       "    <tr>\n",
       "      <th>1</th>\n",
       "      <td>aberasi</td>\n",
       "      <td>abrasi</td>\n",
       "    </tr>\n",
       "    <tr>\n",
       "      <th>2</th>\n",
       "      <td>abis</td>\n",
       "      <td>habis</td>\n",
       "    </tr>\n",
       "    <tr>\n",
       "      <th>3</th>\n",
       "      <td>acc</td>\n",
       "      <td>sesuai</td>\n",
       "    </tr>\n",
       "    <tr>\n",
       "      <th>4</th>\n",
       "      <td>accord</td>\n",
       "      <td>sesuai</td>\n",
       "    </tr>\n",
       "    <tr>\n",
       "      <th>...</th>\n",
       "      <td>...</td>\n",
       "      <td>...</td>\n",
       "    </tr>\n",
       "    <tr>\n",
       "      <th>1720</th>\n",
       "      <td>zinah</td>\n",
       "      <td>zina</td>\n",
       "    </tr>\n",
       "    <tr>\n",
       "      <th>1721</th>\n",
       "      <td>zohir</td>\n",
       "      <td>lahir</td>\n",
       "    </tr>\n",
       "    <tr>\n",
       "      <th>1722</th>\n",
       "      <td>zonk</td>\n",
       "      <td>bodoh</td>\n",
       "    </tr>\n",
       "    <tr>\n",
       "      <th>1723</th>\n",
       "      <td>zygot</td>\n",
       "      <td>zigot</td>\n",
       "    </tr>\n",
       "    <tr>\n",
       "      <th>1724</th>\n",
       "      <td>zygote</td>\n",
       "      <td>zigot</td>\n",
       "    </tr>\n",
       "  </tbody>\n",
       "</table>\n",
       "<p>1725 rows × 2 columns</p>\n",
       "</div>"
      ],
      "text/plain": [
       "     slangword  kata_asli\n",
       "0       ababil  abg labil\n",
       "1      aberasi     abrasi\n",
       "2         abis      habis\n",
       "3          acc     sesuai\n",
       "4       accord     sesuai\n",
       "...        ...        ...\n",
       "1720     zinah       zina\n",
       "1721     zohir      lahir\n",
       "1722      zonk      bodoh\n",
       "1723     zygot      zigot\n",
       "1724    zygote      zigot\n",
       "\n",
       "[1725 rows x 2 columns]"
      ]
     },
     "execution_count": 67,
     "metadata": {},
     "output_type": "execute_result"
    }
   ],
   "source": [
    "dfSlangword = pandas.read_excel('tbl_slangword -- 1725.xls')\n",
    "\n",
    "# Menambahkan kata slangword\n",
    "# dfSlangword = dfSlangword.append({'slangword': 'b4l4j4r', 'kata_asli': 'belajar'}, ignore_index=True)\n",
    "\n",
    "dfSlangword"
   ]
  },
  {
   "cell_type": "code",
   "execution_count": 93,
   "id": "4004d8f6",
   "metadata": {},
   "outputs": [
    {
     "data": {
      "text/plain": [
       "'habis mandi ku terus tidur sesuai'"
      ]
     },
     "execution_count": 93,
     "metadata": {},
     "output_type": "execute_result"
    }
   ],
   "source": [
    "textTweet = 'abis mandi ku terus tidur acc'\n",
    "# Output yang diharapkan : 'habis mandi ku terus tidur sesuai'\n",
    "\n",
    "for index in range(len(dfSlangword['slangword'])):\n",
    "    if dfSlangword['slangword'][index] in textTweet:\n",
    "        # sub = substring\n",
    "        textTweet = re.sub(R'\\b{}\\b'.format(dfSlangword['slangword'][index]), dfSlangword['kata_asli'][index], textTweet)\n",
    "\n",
    "textTweet"
   ]
  },
  {
   "cell_type": "code",
   "execution_count": 95,
   "id": "d58e09a1",
   "metadata": {},
   "outputs": [
    {
     "name": "stdout",
     "output_type": "stream",
     "text": [
      "BELAJAR dari di rumah BOSEN, \n",
      "kyk mo meninggal.\n",
      "Pukul 13:00 WIB \n",
      "\n",
      "@PriandiMus \n",
      "\n",
      "https://www.google.com/ \n",
      "#belajar #rumah #di #berlajar\n"
     ]
    }
   ],
   "source": [
    "tweet = 'BELAJAR dari di rumah BOSEN, \\nkyk mo meninggal.\\nPukul 13:00 WIB \\n\\n@PriandiMus \\n\\nhttps://www.google.com/ \\n#belajar #rumah #di #berlajar'\n",
    "# OUTPUT YANG DIHARAPKAN : 'belajar rumah bosan, seperti mau mati'\n",
    "\n",
    "print(tweet)"
   ]
  },
  {
   "cell_type": "markdown",
   "id": "5cb687e0",
   "metadata": {},
   "source": [
    "#### 1. CASEFOLDING yaitu proses pengubahan seluruh huruf menjadi huruf kecil (lowercase)"
   ]
  },
  {
   "cell_type": "code",
   "execution_count": 96,
   "id": "b2ae8ec0",
   "metadata": {},
   "outputs": [
    {
     "name": "stdout",
     "output_type": "stream",
     "text": [
      "belajar dari di rumah bosen, \n",
      "kyk mo meninggal.\n",
      "pukul 13:00 wib \n",
      "\n",
      "@priandimus \n",
      "\n",
      "https://www.google.com/ \n",
      "#belajar #rumah #di #berlajar\n"
     ]
    }
   ],
   "source": [
    "# PHP : strtolower ( string $string );\n",
    "tweet = tweet.lower()\n",
    "\n",
    "print(tweet)"
   ]
  },
  {
   "cell_type": "markdown",
   "id": "d7b968ab",
   "metadata": {},
   "source": [
    "#### 2. CLEANSING yaitu proses yang bertujuan untuk menghapus atributyang tidak diperlukan untuk analisis analisis"
   ]
  },
  {
   "cell_type": "code",
   "execution_count": null,
   "id": "56faf37e",
   "metadata": {},
   "outputs": [],
   "source": []
  },
  {
   "cell_type": "markdown",
   "id": "13fb7417",
   "metadata": {},
   "source": [
    "#### 3. Mengubah SLANGWORD yaitu proses pengubahan kata yang tidaksesuai dengan ejaan bahasa Indonesia yang baku (EYD) baik berupa kata singkatan ,kata gaul atau modern, ataupun kesalahan salah eja"
   ]
  },
  {
   "cell_type": "code",
   "execution_count": null,
   "id": "daf80cc8",
   "metadata": {},
   "outputs": [],
   "source": []
  },
  {
   "cell_type": "markdown",
   "id": "6542446f",
   "metadata": {},
   "source": [
    "#### 4. Menghapus STOPWORD yaitu proses penghapusan kata yang tidak berpengaruh atau kurang bermakna namun sering ditemui dalam dokumen atau kalimat"
   ]
  },
  {
   "cell_type": "code",
   "execution_count": null,
   "id": "a66e8275",
   "metadata": {},
   "outputs": [],
   "source": []
  },
  {
   "cell_type": "markdown",
   "id": "a9ee92f9",
   "metadata": {},
   "source": [
    "#### 5. STEMMING yaitu proses mengubah kata berimbuhan menjadi kata dasar"
   ]
  },
  {
   "cell_type": "code",
   "execution_count": null,
   "id": "24a793f6",
   "metadata": {},
   "outputs": [],
   "source": []
  },
  {
   "cell_type": "code",
   "execution_count": null,
   "id": "5e688815",
   "metadata": {},
   "outputs": [],
   "source": []
  }
 ],
 "metadata": {
  "kernelspec": {
   "display_name": "Python 3",
   "language": "python",
   "name": "python3"
  },
  "language_info": {
   "codemirror_mode": {
    "name": "ipython",
    "version": 3
   },
   "file_extension": ".py",
   "mimetype": "text/x-python",
   "name": "python",
   "nbconvert_exporter": "python",
   "pygments_lexer": "ipython3",
   "version": "3.8.5"
  }
 },
 "nbformat": 4,
 "nbformat_minor": 5
}
