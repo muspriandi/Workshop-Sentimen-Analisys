{
 "cells": [
  {
   "cell_type": "markdown",
   "metadata": {},
   "source": [
    "### Load data excel crawling"
   ]
  },
  {
   "cell_type": "code",
   "execution_count": null,
   "metadata": {},
   "outputs": [],
   "source": [
    "pip install xlrd"
   ]
  },
  {
   "cell_type": "code",
   "execution_count": null,
   "metadata": {},
   "outputs": [],
   "source": [
    "import pandas\n",
    "import re"
   ]
  },
  {
   "cell_type": "markdown",
   "metadata": {},
   "source": [
    "### Contoh Penerapan Slangword"
   ]
  },
  {
   "cell_type": "code",
   "execution_count": null,
   "metadata": {
    "scrolled": false
   },
   "outputs": [],
   "source": [
    "dataFrameSlangword = pandas.read_excel('tbl_slangword -- 1725.xls')\n",
    "\n",
    "# dataFrameSlangword = dataFrameSlangword.append({'slangword': 'lho', 'kata_asli': 'loh'}, ignore_index=True)\n",
    "\n",
    "dataFrameSlangword"
   ]
  },
  {
   "cell_type": "code",
   "execution_count": null,
   "metadata": {},
   "outputs": [],
   "source": [
    "# text = 'saya pergi ke apotik utk beli obat'\n",
    "text = 'abis mandi ku trus tidur'\n",
    "\n",
    "for index in range(len(dataFrameSlangword['slangword'])):\n",
    "    if dataFrameSlangword['slangword'][index] in text:\n",
    "        text = re.sub(r'\\b{}\\b'.format(dataFrameSlangword['slangword'][index]), dataFrameSlangword['kata_asli'][index], text)\n",
    "\n",
    "text"
   ]
  },
  {
   "cell_type": "markdown",
   "metadata": {},
   "source": [
    "### Contoh Penerapan Stopword"
   ]
  },
  {
   "cell_type": "code",
   "execution_count": null,
   "metadata": {},
   "outputs": [],
   "source": [
    "dataFrameStopword = pandas.read_excel('stopword - 209.xls')\n",
    "\n",
    "# dataFrameStopword = dataFrameSlangword.append({'stopword': 'loh'}, ignore_index=True)\n",
    "\n",
    "dataFrameStopword"
   ]
  },
  {
   "cell_type": "code",
   "execution_count": null,
   "metadata": {},
   "outputs": [],
   "source": [
    "text = 'saya pergi ke apotek untuk beli obat'\n",
    "# text = 'habis mandi ku terus tidur'\n",
    "\n",
    "for index in range(len(dataFrameStopword['stopword'])):\n",
    "    if dataFrameStopword['stopword'][index] in text:\n",
    "        text = re.sub(r'\\b{}\\b'.format(dataFrameStopword['stopword'][index]), '', text)\n",
    "\n",
    "text"
   ]
  },
  {
   "cell_type": "markdown",
   "metadata": {},
   "source": [
    "### Contoh Penerapan Stemming (Sastrawi)"
   ]
  },
  {
   "cell_type": "code",
   "execution_count": null,
   "metadata": {},
   "outputs": [],
   "source": [
    "pip install sastrawi"
   ]
  },
  {
   "cell_type": "code",
   "execution_count": null,
   "metadata": {},
   "outputs": [],
   "source": [
    "from Sastrawi.Stemmer.StemmerFactory import StemmerFactory"
   ]
  },
  {
   "cell_type": "code",
   "execution_count": null,
   "metadata": {},
   "outputs": [],
   "source": [
    "factory = StemmerFactory()\n",
    "stemmer = factory.create_stemmer()"
   ]
  },
  {
   "cell_type": "code",
   "execution_count": null,
   "metadata": {},
   "outputs": [],
   "source": [
    "# text = 'saya membeli obat ke apotek'\n",
    "text = 'saya membantu membersihkan rumah'\n",
    "\n",
    "text = stemmer.stem(text)\n",
    "\n",
    "text"
   ]
  },
  {
   "cell_type": "markdown",
   "metadata": {},
   "source": [
    "# Inti Bagian Pra-Pemrosesan"
   ]
  },
  {
   "cell_type": "code",
   "execution_count": null,
   "metadata": {},
   "outputs": [],
   "source": [
    "dataFrameCrawling = pandas.read_excel('crawling-10-05-2021.xls')\n",
    "\n",
    "dataFrameCrawling"
   ]
  },
  {
   "cell_type": "code",
   "execution_count": null,
   "metadata": {},
   "outputs": [],
   "source": [
    "cleanText = []\n",
    "\n",
    "for data in dataFrameCrawling['tweet']:\n",
    "    \n",
    "    # Casefolding\n",
    "    resultText = data.lower()\n",
    "    \n",
    "    # Cleansing : Hapus URL, Mention, Hastag & Selain Huruf / Menghilangkan kata yang diawali dengan kata 'http', '@', '#' & selain huruf\n",
    "    resultText = re.sub(r'http\\S+', ' ', resultText) # hapus url\n",
    "    resultText = re.sub(r'@\\S+', ' ', resultText) # hapus mention\n",
    "    resultText = re.sub(r'#\\S+', ' ', resultText) # hapus hashtag\n",
    "    resultText = re.sub(r'[^a-z ]', ' ', resultText) # hapus selain huruf a-z\n",
    "    \n",
    "    # Remove Whitespaces : Menghilangkan spasi/tab/baris yang kosong\n",
    "    resultText = resultText.strip()\n",
    "    resultText = re.sub('\\s+', ' ', resultText)\n",
    "    \n",
    "    # Mengubah slangword\n",
    "    for index in range(len(dataFrameSlangword['slangword'])):\n",
    "        if dataFrameSlangword['slangword'][index] in resultText:\n",
    "            resultText = re.sub(r'\\b{}\\b'.format(dataFrameSlangword['slangword'][index]), dataFrameSlangword['kata_asli'][index], resultText)\n",
    "    \n",
    "    # Menghapus slangword\n",
    "    for index in range(len(dataFrameStopword['stopword'])):\n",
    "        if dataFrameStopword['stopword'][index] in resultText:\n",
    "            resultText = re.sub(r'\\b{}\\b'.format(dataFrameStopword['stopword'][index]), '', resultText)\n",
    "    \n",
    "    # Stemming (sastrawi)\n",
    "    resultText = stemmer.stem(resultText)\n",
    "    \n",
    "    cleanText.append(resultText)\n",
    "\n",
    "cleanText"
   ]
  },
  {
   "cell_type": "markdown",
   "metadata": {},
   "source": [
    "#### Sisipkan 'text bersih' ke dalam file"
   ]
  },
  {
   "cell_type": "code",
   "execution_count": null,
   "metadata": {},
   "outputs": [],
   "source": [
    "dataFrameCrawling['clean text'] = cleanText\n",
    "\n",
    "dataFrameCrawling\n",
    "\n",
    "# dataFrameCrawling.to_excel('preprocessing.xlsx', index=False)"
   ]
  },
  {
   "cell_type": "code",
   "execution_count": null,
   "metadata": {},
   "outputs": [],
   "source": []
  }
 ],
 "metadata": {
  "kernelspec": {
   "display_name": "Python 3",
   "language": "python",
   "name": "python3"
  },
  "language_info": {
   "codemirror_mode": {
    "name": "ipython",
    "version": 3
   },
   "file_extension": ".py",
   "mimetype": "text/x-python",
   "name": "python",
   "nbconvert_exporter": "python",
   "pygments_lexer": "ipython3",
   "version": "3.8.5"
  }
 },
 "nbformat": 4,
 "nbformat_minor": 2
}
