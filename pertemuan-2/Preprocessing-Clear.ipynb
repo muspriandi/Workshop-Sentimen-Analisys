{
 "cells": [
  {
   "cell_type": "code",
   "execution_count": 5,
   "id": "89e80229",
   "metadata": {},
   "outputs": [],
   "source": [
    "import pandas"
   ]
  },
  {
   "cell_type": "markdown",
   "id": "bfe0202e",
   "metadata": {},
   "source": [
    " ### Contoh Stopword"
   ]
  },
  {
   "cell_type": "code",
   "execution_count": 6,
   "id": "8ee43d62",
   "metadata": {},
   "outputs": [
    {
     "data": {
      "text/html": [
       "<div>\n",
       "<style scoped>\n",
       "    .dataframe tbody tr th:only-of-type {\n",
       "        vertical-align: middle;\n",
       "    }\n",
       "\n",
       "    .dataframe tbody tr th {\n",
       "        vertical-align: top;\n",
       "    }\n",
       "\n",
       "    .dataframe thead th {\n",
       "        text-align: right;\n",
       "    }\n",
       "</style>\n",
       "<table border=\"1\" class=\"dataframe\">\n",
       "  <thead>\n",
       "    <tr style=\"text-align: right;\">\n",
       "      <th></th>\n",
       "      <th>stopword</th>\n",
       "    </tr>\n",
       "  </thead>\n",
       "  <tbody>\n",
       "    <tr>\n",
       "      <th>0</th>\n",
       "      <td>ada</td>\n",
       "    </tr>\n",
       "    <tr>\n",
       "      <th>1</th>\n",
       "      <td>adalah</td>\n",
       "    </tr>\n",
       "    <tr>\n",
       "      <th>2</th>\n",
       "      <td>adapun</td>\n",
       "    </tr>\n",
       "    <tr>\n",
       "      <th>3</th>\n",
       "      <td>agak</td>\n",
       "    </tr>\n",
       "    <tr>\n",
       "      <th>4</th>\n",
       "      <td>agar</td>\n",
       "    </tr>\n",
       "    <tr>\n",
       "      <th>...</th>\n",
       "      <td>...</td>\n",
       "    </tr>\n",
       "    <tr>\n",
       "      <th>204</th>\n",
       "      <td>wong</td>\n",
       "    </tr>\n",
       "    <tr>\n",
       "      <th>205</th>\n",
       "      <td>ya</td>\n",
       "    </tr>\n",
       "    <tr>\n",
       "      <th>206</th>\n",
       "      <td>yaitu</td>\n",
       "    </tr>\n",
       "    <tr>\n",
       "      <th>207</th>\n",
       "      <td>yakni</td>\n",
       "    </tr>\n",
       "    <tr>\n",
       "      <th>208</th>\n",
       "      <td>yang</td>\n",
       "    </tr>\n",
       "  </tbody>\n",
       "</table>\n",
       "<p>209 rows × 1 columns</p>\n",
       "</div>"
      ],
      "text/plain": [
       "    stopword\n",
       "0        ada\n",
       "1     adalah\n",
       "2     adapun\n",
       "3       agak\n",
       "4       agar\n",
       "..       ...\n",
       "204     wong\n",
       "205       ya\n",
       "206    yaitu\n",
       "207    yakni\n",
       "208     yang\n",
       "\n",
       "[209 rows x 1 columns]"
      ]
     },
     "execution_count": 6,
     "metadata": {},
     "output_type": "execute_result"
    }
   ],
   "source": [
    "dfStopword = pandas.read_excel('stopword - 209.xls')\n",
    "\n",
    "dfStopword"
   ]
  },
  {
   "cell_type": "code",
   "execution_count": 7,
   "id": "bcf19094",
   "metadata": {},
   "outputs": [],
   "source": [
    "# regular expression (regex)\n",
    "import re"
   ]
  },
  {
   "cell_type": "code",
   "execution_count": 8,
   "id": "eaf9444a",
   "metadata": {},
   "outputs": [
    {
     "data": {
      "text/plain": [
       "'belajar   rumah'"
      ]
     },
     "execution_count": 8,
     "metadata": {},
     "output_type": "execute_result"
    }
   ],
   "source": [
    "textTweet = 'belajar di rumah'\n",
    "# Output yang diharapkan : 'belajar  rumah'\n",
    "\n",
    "for index in range(len(dfStopword['stopword'])):\n",
    "    if dfStopword['stopword'][index] in textTweet:\n",
    "        # TRUE\n",
    "        # sub = substring\n",
    "        textTweet = re.sub(R'\\b{}\\b'.format(dfStopword['stopword'][index]), ' ', textTweet)\n",
    "\n",
    "textTweet"
   ]
  },
  {
   "cell_type": "markdown",
   "id": "2f1fc822",
   "metadata": {},
   "source": [
    "### Contoh Slangword"
   ]
  },
  {
   "cell_type": "code",
   "execution_count": 9,
   "id": "9bf15f5d",
   "metadata": {},
   "outputs": [
    {
     "data": {
      "text/html": [
       "<div>\n",
       "<style scoped>\n",
       "    .dataframe tbody tr th:only-of-type {\n",
       "        vertical-align: middle;\n",
       "    }\n",
       "\n",
       "    .dataframe tbody tr th {\n",
       "        vertical-align: top;\n",
       "    }\n",
       "\n",
       "    .dataframe thead th {\n",
       "        text-align: right;\n",
       "    }\n",
       "</style>\n",
       "<table border=\"1\" class=\"dataframe\">\n",
       "  <thead>\n",
       "    <tr style=\"text-align: right;\">\n",
       "      <th></th>\n",
       "      <th>slangword</th>\n",
       "      <th>kata_asli</th>\n",
       "    </tr>\n",
       "  </thead>\n",
       "  <tbody>\n",
       "    <tr>\n",
       "      <th>0</th>\n",
       "      <td>ababil</td>\n",
       "      <td>abg labil</td>\n",
       "    </tr>\n",
       "    <tr>\n",
       "      <th>1</th>\n",
       "      <td>aberasi</td>\n",
       "      <td>abrasi</td>\n",
       "    </tr>\n",
       "    <tr>\n",
       "      <th>2</th>\n",
       "      <td>abis</td>\n",
       "      <td>habis</td>\n",
       "    </tr>\n",
       "    <tr>\n",
       "      <th>3</th>\n",
       "      <td>acc</td>\n",
       "      <td>sesuai</td>\n",
       "    </tr>\n",
       "    <tr>\n",
       "      <th>4</th>\n",
       "      <td>accord</td>\n",
       "      <td>sesuai</td>\n",
       "    </tr>\n",
       "    <tr>\n",
       "      <th>...</th>\n",
       "      <td>...</td>\n",
       "      <td>...</td>\n",
       "    </tr>\n",
       "    <tr>\n",
       "      <th>1721</th>\n",
       "      <td>zohir</td>\n",
       "      <td>lahir</td>\n",
       "    </tr>\n",
       "    <tr>\n",
       "      <th>1722</th>\n",
       "      <td>zonk</td>\n",
       "      <td>bodoh</td>\n",
       "    </tr>\n",
       "    <tr>\n",
       "      <th>1723</th>\n",
       "      <td>zygot</td>\n",
       "      <td>zigot</td>\n",
       "    </tr>\n",
       "    <tr>\n",
       "      <th>1724</th>\n",
       "      <td>zygote</td>\n",
       "      <td>zigot</td>\n",
       "    </tr>\n",
       "    <tr>\n",
       "      <th>1725</th>\n",
       "      <td>bosen</td>\n",
       "      <td>bosan</td>\n",
       "    </tr>\n",
       "  </tbody>\n",
       "</table>\n",
       "<p>1726 rows × 2 columns</p>\n",
       "</div>"
      ],
      "text/plain": [
       "     slangword  kata_asli\n",
       "0       ababil  abg labil\n",
       "1      aberasi     abrasi\n",
       "2         abis      habis\n",
       "3          acc     sesuai\n",
       "4       accord     sesuai\n",
       "...        ...        ...\n",
       "1721     zohir      lahir\n",
       "1722      zonk      bodoh\n",
       "1723     zygot      zigot\n",
       "1724    zygote      zigot\n",
       "1725     bosen      bosan\n",
       "\n",
       "[1726 rows x 2 columns]"
      ]
     },
     "execution_count": 9,
     "metadata": {},
     "output_type": "execute_result"
    }
   ],
   "source": [
    "dfSlangword = pandas.read_excel('tbl_slangword -- 1725.xls')\n",
    "\n",
    "# Menambahkan kata slangword\n",
    "dfSlangword = dfSlangword.append(\n",
    "    {'slangword': 'bosen', 'kata_asli': 'bosan'}, ignore_index=True\n",
    ")\n",
    "\n",
    "dfSlangword"
   ]
  },
  {
   "cell_type": "code",
   "execution_count": 10,
   "id": "3cabb263",
   "metadata": {},
   "outputs": [
    {
     "data": {
      "text/plain": [
       "'habis mandi ku terus tidur sesuai'"
      ]
     },
     "execution_count": 10,
     "metadata": {},
     "output_type": "execute_result"
    }
   ],
   "source": [
    "textTweet = 'abis mandi ku terus tidur acc'\n",
    "# Output yang diharapkan : 'habis mandi ku terus tidur sesuai'\n",
    "\n",
    "for index in range(len(dfSlangword['slangword'])):\n",
    "    if dfSlangword['slangword'][index] in textTweet:\n",
    "        # sub = substring\n",
    "        textTweet = re.sub(R'\\b{}\\b'.format(dfSlangword['slangword'][index]), dfSlangword['kata_asli'][index], textTweet)\n",
    "\n",
    "textTweet"
   ]
  },
  {
   "cell_type": "code",
   "execution_count": 11,
   "id": "59325672",
   "metadata": {},
   "outputs": [
    {
     "name": "stdout",
     "output_type": "stream",
     "text": [
      "BELAJAR dari di rumah BOSEN, \n",
      "kyk mo meninggal.\n",
      "Pukul 13:00 WIB \n",
      "\n",
      "@PriandiMus \n",
      "\n",
      "https://www.google.com/ #belajar #rumah #di #berlajar\n"
     ]
    }
   ],
   "source": [
    "tweet = 'BELAJAR dari di rumah BOSEN, \\nkyk mo meninggal.\\nPukul 13:00 WIB \\n\\n@PriandiMus \\n\\nhttps://www.google.com/ #belajar #rumah #di #berlajar'\n",
    "# OUTPUT YANG DIHARAPKAN : 'belajar rumah bosan, seperti mau mati'\n",
    "\n",
    "print(tweet)"
   ]
  },
  {
   "cell_type": "markdown",
   "id": "27fd09ad",
   "metadata": {},
   "source": [
    "#### 1. CASEFOLDING yaitu proses pengubahan seluruh huruf menjadi huruf kecil (lowercase)"
   ]
  },
  {
   "cell_type": "code",
   "execution_count": 12,
   "id": "f8a399fb",
   "metadata": {},
   "outputs": [
    {
     "name": "stdout",
     "output_type": "stream",
     "text": [
      "belajar dari di rumah bosen, \n",
      "kyk mo meninggal.\n",
      "pukul 13:00 wib \n",
      "\n",
      "@priandimus \n",
      "\n",
      "https://www.google.com/ #belajar #rumah #di #berlajar\n"
     ]
    }
   ],
   "source": [
    "# PHP : strtolower ( $tweet );\n",
    "tweet = tweet.lower()\n",
    "\n",
    "print(tweet)"
   ]
  },
  {
   "cell_type": "markdown",
   "id": "fb5de439",
   "metadata": {},
   "source": [
    "#### 2. CLEANSING yaitu proses yang bertujuan untuk menghapus atributyang tidak diperlukan untuk analisis analisis"
   ]
  },
  {
   "cell_type": "code",
   "execution_count": 13,
   "id": "6dc03233",
   "metadata": {},
   "outputs": [
    {
     "name": "stdout",
     "output_type": "stream",
     "text": [
      "belajar dari di rumah bosen, \n",
      "kyk mo meninggal.\n",
      "pukul 13:00 wib \n",
      "\n",
      "@priandimus \n",
      "\n",
      "  #belajar #rumah #di #berlajar\n"
     ]
    }
   ],
   "source": [
    "# SUB 1 :  Mengahpus URL (^http)\n",
    "tweet = re.sub('http\\S+', ' ', tweet)\n",
    "\n",
    "print(tweet)"
   ]
  },
  {
   "cell_type": "code",
   "execution_count": 14,
   "id": "970f54ce",
   "metadata": {},
   "outputs": [
    {
     "name": "stdout",
     "output_type": "stream",
     "text": [
      "belajar dari di rumah bosen, \n",
      "kyk mo meninggal.\n",
      "pukul 13:00 wib \n",
      "\n",
      "  \n",
      "\n",
      "  #belajar #rumah #di #berlajar\n"
     ]
    }
   ],
   "source": [
    "# SUB 2 :  Menghapus MENTION (^@)\n",
    "tweet = re.sub('@\\S+', ' ', tweet)\n",
    "\n",
    "print(tweet)"
   ]
  },
  {
   "cell_type": "code",
   "execution_count": 15,
   "id": "72f1bdc8",
   "metadata": {},
   "outputs": [
    {
     "name": "stdout",
     "output_type": "stream",
     "text": [
      "belajar dari di rumah bosen, \n",
      "kyk mo meninggal.\n",
      "pukul 13:00 wib \n",
      "\n",
      "  \n",
      "\n",
      "         \n"
     ]
    }
   ],
   "source": [
    "# SUB 3 :  Menghapus HASTAG (^#)\n",
    "tweet = re.sub('#\\S+', ' ', tweet)\n",
    "\n",
    "print(tweet)"
   ]
  },
  {
   "cell_type": "code",
   "execution_count": 16,
   "id": "dabd1cf4",
   "metadata": {},
   "outputs": [],
   "source": [
    "import string"
   ]
  },
  {
   "cell_type": "code",
   "execution_count": 17,
   "id": "d1f90b6b",
   "metadata": {},
   "outputs": [
    {
     "name": "stdout",
     "output_type": "stream",
     "text": [
      "belajar dari di rumah bosen   kyk mo meninggal  pukul       wib                \n"
     ]
    }
   ],
   "source": [
    "# SUB 4 :  Menghapus SELAIN HURUF ([a-z ])\n",
    "tweet = re.sub('[^a-z]', ' ', tweet)\n",
    "\n",
    "\n",
    "# SUB TAMBAHAN :  Menghapus angka\n",
    "# tweet = re.sub('\\d+', ' ', tweet)\n",
    "\n",
    "# SUB TAMBAHAN :  Menghapus tanda baca\n",
    "# tweet = tweet.translate(str.maketrans(' ', ' ', string.punctuation))\n",
    "\n",
    "print(tweet)"
   ]
  },
  {
   "cell_type": "code",
   "execution_count": 18,
   "id": "04800f3a",
   "metadata": {},
   "outputs": [
    {
     "name": "stdout",
     "output_type": "stream",
     "text": [
      "belajar dari di rumah bosen kyk mo meninggal pukul wib\n"
     ]
    }
   ],
   "source": [
    "# PHP = trim()\n",
    "\n",
    "# Menghapus spasi berlebih di akhir kata\n",
    "tweet = tweet.strip()\n",
    "# Menghapus spasi berlebih di antara kata (\\s+ == spasi)\n",
    "tweet = re.sub('\\s+', ' ', tweet)\n",
    "\n",
    "print(tweet)"
   ]
  },
  {
   "cell_type": "markdown",
   "id": "431e0374",
   "metadata": {},
   "source": [
    "#### 3. Mengubah SLANGWORD yaitu proses pengubahan kata yang tidaksesuai dengan ejaan bahasa Indonesia yang baku (EYD) baik berupa kata singkatan ,kata gaul atau modern, ataupun kesalahan salah eja"
   ]
  },
  {
   "cell_type": "code",
   "execution_count": 19,
   "id": "3db7e180",
   "metadata": {},
   "outputs": [
    {
     "data": {
      "text/plain": [
       "'belajar dari di rumah bosan seperti mau meninggal pukul wib'"
      ]
     },
     "execution_count": 19,
     "metadata": {},
     "output_type": "execute_result"
    }
   ],
   "source": [
    "for index in range(len(dfSlangword['slangword'])):\n",
    "    if dfSlangword['slangword'][index] in tweet:\n",
    "        # sub = substring\n",
    "        tweet = re.sub(R'\\b{}\\b'.format(dfSlangword['slangword'][index]), dfSlangword['kata_asli'][index], tweet)\n",
    "        \n",
    "tweet"
   ]
  },
  {
   "cell_type": "markdown",
   "id": "7293c298",
   "metadata": {},
   "source": [
    "#### 4. Menghapus STOPWORD yaitu proses penghapusan kata yang tidak berpengaruh atau kurang bermakna namun sering ditemui dalam dokumen atau kalimat"
   ]
  },
  {
   "cell_type": "code",
   "execution_count": 20,
   "id": "c3b07504",
   "metadata": {},
   "outputs": [
    {
     "name": "stdout",
     "output_type": "stream",
     "text": [
      "belajar   rumah bosan seperti  meninggal pukul \n"
     ]
    }
   ],
   "source": [
    "for index in range(len(dfStopword['stopword'])):\n",
    "    if dfStopword['stopword'][index] in tweet:\n",
    "        # TRUE\n",
    "        # sub = substring\n",
    "        tweet = re.sub(R'\\b{}\\b'.format(dfStopword['stopword'][index]), '', tweet)\n",
    "\n",
    "print(tweet)"
   ]
  },
  {
   "cell_type": "markdown",
   "id": "748cf594",
   "metadata": {},
   "source": [
    "#### 5. STEMMING yaitu proses mengubah kata berimbuhan menjadi kata dasar"
   ]
  },
  {
   "cell_type": "code",
   "execution_count": 21,
   "id": "ad4175b7",
   "metadata": {},
   "outputs": [],
   "source": [
    "# import StemmerFactory class\n",
    "from Sastrawi.Stemmer.StemmerFactory import StemmerFactory\n",
    "\n",
    "# create stemmer / inisialisasi\n",
    "factory = StemmerFactory()\n",
    "stemmer = factory.create_stemmer()"
   ]
  },
  {
   "cell_type": "code",
   "execution_count": 22,
   "id": "96d3f756",
   "metadata": {},
   "outputs": [
    {
     "name": "stdout",
     "output_type": "stream",
     "text": [
      "ajar rumah bosan seperti tinggal pukul\n"
     ]
    }
   ],
   "source": [
    "tweet = stemmer.stem( tweet )\n",
    "\n",
    "print(tweet)"
   ]
  },
  {
   "cell_type": "code",
   "execution_count": 23,
   "id": "de14cb00",
   "metadata": {},
   "outputs": [
    {
     "data": {
      "text/html": [
       "<div>\n",
       "<style scoped>\n",
       "    .dataframe tbody tr th:only-of-type {\n",
       "        vertical-align: middle;\n",
       "    }\n",
       "\n",
       "    .dataframe tbody tr th {\n",
       "        vertical-align: top;\n",
       "    }\n",
       "\n",
       "    .dataframe thead th {\n",
       "        text-align: right;\n",
       "    }\n",
       "</style>\n",
       "<table border=\"1\" class=\"dataframe\">\n",
       "  <thead>\n",
       "    <tr style=\"text-align: right;\">\n",
       "      <th></th>\n",
       "      <th>id</th>\n",
       "      <th>username</th>\n",
       "      <th>tweet</th>\n",
       "      <th>dibuat pada</th>\n",
       "    </tr>\n",
       "  </thead>\n",
       "  <tbody>\n",
       "    <tr>\n",
       "      <th>0</th>\n",
       "      <td>1391661396710990080</td>\n",
       "      <td>mainanbukuanak</td>\n",
       "      <td>Seri Adab Berbicara - Diskon 20% menjadi Rp.20...</td>\n",
       "      <td>Mon May 10 07:48:27 +0000 2021</td>\n",
       "    </tr>\n",
       "    <tr>\n",
       "      <th>1</th>\n",
       "      <td>1391622121260944896</td>\n",
       "      <td>mainanbukuanak</td>\n",
       "      <td>Seri Adab Bepergian - Diskon 20% menjadi Rp.20...</td>\n",
       "      <td>Mon May 10 05:12:23 +0000 2021</td>\n",
       "    </tr>\n",
       "    <tr>\n",
       "      <th>2</th>\n",
       "      <td>1391620064755912960</td>\n",
       "      <td>kelaskitadotcom</td>\n",
       "      <td>Minum aer di pinggir kota (cakep)\\nAda THR nih...</td>\n",
       "      <td>Mon May 10 05:04:13 +0000 2021</td>\n",
       "    </tr>\n",
       "    <tr>\n",
       "      <th>3</th>\n",
       "      <td>1391585265995588096</td>\n",
       "      <td>mainanbukuanak</td>\n",
       "      <td>Seri Adab Belajar - Diskon 20% menjadi Rp.2000...</td>\n",
       "      <td>Mon May 10 02:45:56 +0000 2021</td>\n",
       "    </tr>\n",
       "    <tr>\n",
       "      <th>4</th>\n",
       "      <td>1391581883310345984</td>\n",
       "      <td>diskominfolutim</td>\n",
       "      <td>Optimalkan Program Proritas, Bupati Budiman Fo...</td>\n",
       "      <td>Mon May 10 02:32:29 +0000 2021</td>\n",
       "    </tr>\n",
       "  </tbody>\n",
       "</table>\n",
       "</div>"
      ],
      "text/plain": [
       "                    id         username  \\\n",
       "0  1391661396710990080   mainanbukuanak   \n",
       "1  1391622121260944896   mainanbukuanak   \n",
       "2  1391620064755912960  kelaskitadotcom   \n",
       "3  1391585265995588096   mainanbukuanak   \n",
       "4  1391581883310345984  diskominfolutim   \n",
       "\n",
       "                                               tweet  \\\n",
       "0  Seri Adab Berbicara - Diskon 20% menjadi Rp.20...   \n",
       "1  Seri Adab Bepergian - Diskon 20% menjadi Rp.20...   \n",
       "2  Minum aer di pinggir kota (cakep)\\nAda THR nih...   \n",
       "3  Seri Adab Belajar - Diskon 20% menjadi Rp.2000...   \n",
       "4  Optimalkan Program Proritas, Bupati Budiman Fo...   \n",
       "\n",
       "                      dibuat pada  \n",
       "0  Mon May 10 07:48:27 +0000 2021  \n",
       "1  Mon May 10 05:12:23 +0000 2021  \n",
       "2  Mon May 10 05:04:13 +0000 2021  \n",
       "3  Mon May 10 02:45:56 +0000 2021  \n",
       "4  Mon May 10 02:32:29 +0000 2021  "
      ]
     },
     "execution_count": 23,
     "metadata": {},
     "output_type": "execute_result"
    }
   ],
   "source": [
    "dataFrame = pandas.read_excel('crawling-10-05-2021.xls')\n",
    "\n",
    "dataFrame"
   ]
  },
  {
   "cell_type": "markdown",
   "id": "e247462c",
   "metadata": {},
   "source": [
    "#### PREPROCESSING BANYAK TWEET(S)"
   ]
  },
  {
   "cell_type": "code",
   "execution_count": 24,
   "id": "3c392cf9",
   "metadata": {},
   "outputs": [
    {
     "data": {
      "text/plain": [
       "['seri adab bicara diskon jadi rp gratis ongkos kirim rb seluruh indonesia sinopsis bicara gema gina tidak bohong indah',\n",
       " 'seri adab pergi diskon jadi rp gratis ongkos kirim rb seluruh indonesia sinopsis lila kesal lupa bawa main pasir pantai',\n",
       " 'minum aer pinggir kota cakep thr kelaskita cek instagram',\n",
       " 'seri adab ajar diskon jadi rp gratis ongkos kirim rb seluruh indonesia sinopsis nilai ulang hari jelek aku hanya dapat angka',\n",
       " 'optimal program proritas bupati budiman fokus benah kerja asn berita lengkap']"
      ]
     },
     "execution_count": 24,
     "metadata": {},
     "output_type": "execute_result"
    }
   ],
   "source": [
    "cleanText = [] # wadah (list) kosong\n",
    "\n",
    "for data in dataFrame['tweet']:\n",
    "    #     CASE FOLDING\n",
    "    tweet = data.lower()\n",
    "    \n",
    "    #     CLEANSING\n",
    "    #     tweet = re.sub('http\\S+', ' ', tweet)\n",
    "    #     tweet = re.sub('@\\S+', ' ', tweet)\n",
    "    #     tweet = re.sub('#\\S+', ' ', tweet)\n",
    "    tweet = re.sub('http\\S+|@\\S+|#\\S+', ' ', tweet)\n",
    "    tweet = re.sub('[^a-z]', ' ', tweet)\n",
    "    tweet = tweet.strip()\n",
    "    tweet = re.sub('\\s+', ' ', tweet)\n",
    "    \n",
    "    #     SLANGWORD\n",
    "    for index in range(len(dfSlangword['slangword'])):\n",
    "        if dfSlangword['slangword'][index] in tweet:\n",
    "            tweet = re.sub(R'\\b{}\\b'.format(dfSlangword['slangword'][index]), dfSlangword['kata_asli'][index], tweet)\n",
    "    \n",
    "    #     STOPWORD\n",
    "    for index in range(len(dfStopword['stopword'])):\n",
    "        if dfStopword['stopword'][index] in tweet:\n",
    "            tweet = re.sub(R'\\b{}\\b'.format(dfStopword['stopword'][index]), '', tweet)\n",
    "    \n",
    "    #     STEMMING\n",
    "    tweet = stemmer.stem( tweet )\n",
    "    \n",
    "    cleanText.append( tweet )\n",
    "\n",
    "cleanText"
   ]
  },
  {
   "cell_type": "code",
   "execution_count": 25,
   "id": "66ec0969",
   "metadata": {},
   "outputs": [
    {
     "data": {
      "text/html": [
       "<div>\n",
       "<style scoped>\n",
       "    .dataframe tbody tr th:only-of-type {\n",
       "        vertical-align: middle;\n",
       "    }\n",
       "\n",
       "    .dataframe tbody tr th {\n",
       "        vertical-align: top;\n",
       "    }\n",
       "\n",
       "    .dataframe thead th {\n",
       "        text-align: right;\n",
       "    }\n",
       "</style>\n",
       "<table border=\"1\" class=\"dataframe\">\n",
       "  <thead>\n",
       "    <tr style=\"text-align: right;\">\n",
       "      <th></th>\n",
       "      <th>id</th>\n",
       "      <th>username</th>\n",
       "      <th>tweet</th>\n",
       "      <th>dibuat pada</th>\n",
       "      <th>text bersih</th>\n",
       "    </tr>\n",
       "  </thead>\n",
       "  <tbody>\n",
       "    <tr>\n",
       "      <th>0</th>\n",
       "      <td>1391661396710990080</td>\n",
       "      <td>mainanbukuanak</td>\n",
       "      <td>Seri Adab Berbicara - Diskon 20% menjadi Rp.20...</td>\n",
       "      <td>Mon May 10 07:48:27 +0000 2021</td>\n",
       "      <td>seri adab bicara diskon jadi rp gratis ongkos ...</td>\n",
       "    </tr>\n",
       "    <tr>\n",
       "      <th>1</th>\n",
       "      <td>1391622121260944896</td>\n",
       "      <td>mainanbukuanak</td>\n",
       "      <td>Seri Adab Bepergian - Diskon 20% menjadi Rp.20...</td>\n",
       "      <td>Mon May 10 05:12:23 +0000 2021</td>\n",
       "      <td>seri adab pergi diskon jadi rp gratis ongkos k...</td>\n",
       "    </tr>\n",
       "    <tr>\n",
       "      <th>2</th>\n",
       "      <td>1391620064755912960</td>\n",
       "      <td>kelaskitadotcom</td>\n",
       "      <td>Minum aer di pinggir kota (cakep)\\nAda THR nih...</td>\n",
       "      <td>Mon May 10 05:04:13 +0000 2021</td>\n",
       "      <td>minum aer pinggir kota cakep thr kelaskita cek...</td>\n",
       "    </tr>\n",
       "    <tr>\n",
       "      <th>3</th>\n",
       "      <td>1391585265995588096</td>\n",
       "      <td>mainanbukuanak</td>\n",
       "      <td>Seri Adab Belajar - Diskon 20% menjadi Rp.2000...</td>\n",
       "      <td>Mon May 10 02:45:56 +0000 2021</td>\n",
       "      <td>seri adab ajar diskon jadi rp gratis ongkos ki...</td>\n",
       "    </tr>\n",
       "    <tr>\n",
       "      <th>4</th>\n",
       "      <td>1391581883310345984</td>\n",
       "      <td>diskominfolutim</td>\n",
       "      <td>Optimalkan Program Proritas, Bupati Budiman Fo...</td>\n",
       "      <td>Mon May 10 02:32:29 +0000 2021</td>\n",
       "      <td>optimal program proritas bupati budiman fokus ...</td>\n",
       "    </tr>\n",
       "  </tbody>\n",
       "</table>\n",
       "</div>"
      ],
      "text/plain": [
       "                    id         username  \\\n",
       "0  1391661396710990080   mainanbukuanak   \n",
       "1  1391622121260944896   mainanbukuanak   \n",
       "2  1391620064755912960  kelaskitadotcom   \n",
       "3  1391585265995588096   mainanbukuanak   \n",
       "4  1391581883310345984  diskominfolutim   \n",
       "\n",
       "                                               tweet  \\\n",
       "0  Seri Adab Berbicara - Diskon 20% menjadi Rp.20...   \n",
       "1  Seri Adab Bepergian - Diskon 20% menjadi Rp.20...   \n",
       "2  Minum aer di pinggir kota (cakep)\\nAda THR nih...   \n",
       "3  Seri Adab Belajar - Diskon 20% menjadi Rp.2000...   \n",
       "4  Optimalkan Program Proritas, Bupati Budiman Fo...   \n",
       "\n",
       "                      dibuat pada  \\\n",
       "0  Mon May 10 07:48:27 +0000 2021   \n",
       "1  Mon May 10 05:12:23 +0000 2021   \n",
       "2  Mon May 10 05:04:13 +0000 2021   \n",
       "3  Mon May 10 02:45:56 +0000 2021   \n",
       "4  Mon May 10 02:32:29 +0000 2021   \n",
       "\n",
       "                                         text bersih  \n",
       "0  seri adab bicara diskon jadi rp gratis ongkos ...  \n",
       "1  seri adab pergi diskon jadi rp gratis ongkos k...  \n",
       "2  minum aer pinggir kota cakep thr kelaskita cek...  \n",
       "3  seri adab ajar diskon jadi rp gratis ongkos ki...  \n",
       "4  optimal program proritas bupati budiman fokus ...  "
      ]
     },
     "execution_count": 25,
     "metadata": {},
     "output_type": "execute_result"
    }
   ],
   "source": [
    "dataFrame['text bersih'] = cleanText\n",
    "\n",
    "dataFrame"
   ]
  },
  {
   "cell_type": "code",
   "execution_count": 26,
   "id": "ee3657d3",
   "metadata": {},
   "outputs": [],
   "source": [
    "dataFrame.to_excel('preprocessing.xlsx', index=False)"
   ]
  },
  {
   "cell_type": "code",
   "execution_count": null,
   "id": "d8f696d1",
   "metadata": {},
   "outputs": [],
   "source": []
  }
 ],
 "metadata": {
  "kernelspec": {
   "display_name": "Python 3",
   "language": "python",
   "name": "python3"
  },
  "language_info": {
   "codemirror_mode": {
    "name": "ipython",
    "version": 3
   },
   "file_extension": ".py",
   "mimetype": "text/x-python",
   "name": "python",
   "nbconvert_exporter": "python",
   "pygments_lexer": "ipython3",
   "version": "3.8.5"
  }
 },
 "nbformat": 4,
 "nbformat_minor": 5
}
