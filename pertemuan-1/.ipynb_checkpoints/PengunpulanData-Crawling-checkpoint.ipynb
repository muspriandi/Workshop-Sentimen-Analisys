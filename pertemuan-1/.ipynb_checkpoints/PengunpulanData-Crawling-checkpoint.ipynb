{
 "cells": [
  {
   "cell_type": "markdown",
   "metadata": {},
   "source": [
    "# Pengumpulan Data"
   ]
  },
  {
   "cell_type": "code",
   "execution_count": null,
   "metadata": {
    "collapsed": true
   },
   "outputs": [],
   "source": [
    "pip install tweepy"
   ]
  },
  {
   "cell_type": "code",
   "execution_count": null,
   "metadata": {
    "collapsed": true
   },
   "outputs": [],
   "source": [
    "import tweepy"
   ]
  },
  {
   "cell_type": "code",
   "execution_count": null,
   "metadata": {
    "collapsed": true
   },
   "outputs": [],
   "source": [
    "auth = tweepy.OAuthHandler(consumer_key, consumer_secret)\n",
    "auth.set_access_token(access_token, access_token_secret)\n",
    "\n",
    "api = tweepy.API(auth)"
   ]
  },
  {
   "cell_type": "code",
   "execution_count": null,
   "metadata": {
    "collapsed": true
   },
   "outputs": [],
   "source": [
    "    # tambahkan ' -filter:retweets' untuk menghindari RETWEET pada tweet yang ingin di crawling\n",
    "kataKunci = '#belajardirumah -filter:retweets'\n",
    "\n",
    "# mengambil 100 tweet pertama\n",
    "tweets = api.search(kataKunci, lang='id', tweet_mode='extended', count='100')\n",
    "\n",
    "# Wadah kosong\n",
    "id = []\n",
    "text = []\n",
    "created_at = []\n",
    "username = []\n",
    "\n",
    "for data in tweets:\n",
    "    # mengisi wadah kosong menggunakan data dari API)\n",
    "    id.append( data._json['id'] )\n",
    "    text.append( data._json['full_text'] )\n",
    "    created_at.append( data._json['created_at'] )\n",
    "    username.append( data._json['user']['screen_name'] )"
   ]
  },
  {
   "cell_type": "code",
   "execution_count": null,
   "metadata": {
    "collapsed": true
   },
   "outputs": [],
   "source": [
    "pip install openpyxl"
   ]
  },
  {
   "cell_type": "code",
   "execution_count": null,
   "metadata": {
    "collapsed": true
   },
   "outputs": [],
   "source": [
    "import pandas\n",
    "\n",
    "# Mengubah kumpulan array menjadi sebuah dataFrame\n",
    "dataFrame = pandas.DataFrame({\n",
    "    'id': id,\n",
    "    'tweet': text,\n",
    "    'dibuat pada': created_at,\n",
    "    'username': username\n",
    "})\n",
    "\n",
    "dataFrame\n",
    "\n",
    "# export dataFrame ke excel (.xlsx)\n",
    "# dataFrame.to_excel('crawling_09-05-2021.xlsx', index=False)"
   ]
  },
  {
   "cell_type": "code",
   "execution_count": null,
   "metadata": {
    "collapsed": true
   },
   "outputs": [],
   "source": []
  }
 ],
 "metadata": {
  "kernelspec": {
   "display_name": "Python 3",
   "language": "python",
   "name": "python3"
  },
  "language_info": {
   "codemirror_mode": {
    "name": "ipython",
    "version": 3
   },
   "file_extension": ".py",
   "mimetype": "text/x-python",
   "name": "python",
   "nbconvert_exporter": "python",
   "pygments_lexer": "ipython3",
   "version": "3.8.5"
  }
 },
 "nbformat": 4,
 "nbformat_minor": 2
}
