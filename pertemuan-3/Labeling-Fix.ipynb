{
 "cells": [
  {
   "cell_type": "markdown",
   "metadata": {},
   "source": [
    "### Pre-requirements"
   ]
  },
  {
   "cell_type": "code",
   "execution_count": 3,
   "metadata": {},
   "outputs": [],
   "source": [
    "import pandas"
   ]
  },
  {
   "cell_type": "code",
   "execution_count": null,
   "metadata": {},
   "outputs": [],
   "source": [
    "pip install xlrd\n",
    "pip install openpyxl"
   ]
  },
  {
   "cell_type": "markdown",
   "metadata": {},
   "source": [
    "#### Import Kamus Kata Positif"
   ]
  },
  {
   "cell_type": "code",
   "execution_count": 4,
   "metadata": {},
   "outputs": [
    {
     "data": {
      "text/html": [
       "<div>\n",
       "<style scoped>\n",
       "    .dataframe tbody tr th:only-of-type {\n",
       "        vertical-align: middle;\n",
       "    }\n",
       "\n",
       "    .dataframe tbody tr th {\n",
       "        vertical-align: top;\n",
       "    }\n",
       "\n",
       "    .dataframe thead th {\n",
       "        text-align: right;\n",
       "    }\n",
       "</style>\n",
       "<table border=\"1\" class=\"dataframe\">\n",
       "  <thead>\n",
       "    <tr style=\"text-align: right;\">\n",
       "      <th></th>\n",
       "      <th>positive_word</th>\n",
       "    </tr>\n",
       "  </thead>\n",
       "  <tbody>\n",
       "    <tr>\n",
       "      <th>0</th>\n",
       "      <td>a</td>\n",
       "    </tr>\n",
       "    <tr>\n",
       "      <th>1</th>\n",
       "      <td>absah</td>\n",
       "    </tr>\n",
       "    <tr>\n",
       "      <th>2</th>\n",
       "      <td>absolut</td>\n",
       "    </tr>\n",
       "    <tr>\n",
       "      <th>3</th>\n",
       "      <td>accord</td>\n",
       "    </tr>\n",
       "    <tr>\n",
       "      <th>4</th>\n",
       "      <td>acu</td>\n",
       "    </tr>\n",
       "    <tr>\n",
       "      <th>...</th>\n",
       "      <td>...</td>\n",
       "    </tr>\n",
       "    <tr>\n",
       "      <th>1100</th>\n",
       "      <td>yay</td>\n",
       "    </tr>\n",
       "    <tr>\n",
       "      <th>1101</th>\n",
       "      <td>yeah</td>\n",
       "    </tr>\n",
       "    <tr>\n",
       "      <th>1102</th>\n",
       "      <td>yihaa</td>\n",
       "    </tr>\n",
       "    <tr>\n",
       "      <th>1103</th>\n",
       "      <td>zakat</td>\n",
       "    </tr>\n",
       "    <tr>\n",
       "      <th>1104</th>\n",
       "      <td>zikir</td>\n",
       "    </tr>\n",
       "  </tbody>\n",
       "</table>\n",
       "<p>1105 rows × 1 columns</p>\n",
       "</div>"
      ],
      "text/plain": [
       "     positive_word\n",
       "0                a\n",
       "1            absah\n",
       "2          absolut\n",
       "3           accord\n",
       "4              acu\n",
       "...            ...\n",
       "1100           yay\n",
       "1101          yeah\n",
       "1102         yihaa\n",
       "1103         zakat\n",
       "1104         zikir\n",
       "\n",
       "[1105 rows x 1 columns]"
      ]
     },
     "execution_count": 4,
     "metadata": {},
     "output_type": "execute_result"
    }
   ],
   "source": [
    "dataFrameKataPositif = pandas.read_excel('tbl_lexicon_positive - 1105.xls')\n",
    "\n",
    "dataFrameKataPositif"
   ]
  },
  {
   "cell_type": "markdown",
   "metadata": {},
   "source": [
    "#### Import Kamus Kata Negatif"
   ]
  },
  {
   "cell_type": "code",
   "execution_count": 5,
   "metadata": {},
   "outputs": [
    {
     "data": {
      "text/html": [
       "<div>\n",
       "<style scoped>\n",
       "    .dataframe tbody tr th:only-of-type {\n",
       "        vertical-align: middle;\n",
       "    }\n",
       "\n",
       "    .dataframe tbody tr th {\n",
       "        vertical-align: top;\n",
       "    }\n",
       "\n",
       "    .dataframe thead th {\n",
       "        text-align: right;\n",
       "    }\n",
       "</style>\n",
       "<table border=\"1\" class=\"dataframe\">\n",
       "  <thead>\n",
       "    <tr style=\"text-align: right;\">\n",
       "      <th></th>\n",
       "      <th>negative_word</th>\n",
       "    </tr>\n",
       "  </thead>\n",
       "  <tbody>\n",
       "    <tr>\n",
       "      <th>0</th>\n",
       "      <td>abai</td>\n",
       "    </tr>\n",
       "    <tr>\n",
       "      <th>1</th>\n",
       "      <td>abnormal</td>\n",
       "    </tr>\n",
       "    <tr>\n",
       "      <th>2</th>\n",
       "      <td>absurd</td>\n",
       "    </tr>\n",
       "    <tr>\n",
       "      <th>3</th>\n",
       "      <td>abur</td>\n",
       "    </tr>\n",
       "    <tr>\n",
       "      <th>4</th>\n",
       "      <td>acak</td>\n",
       "    </tr>\n",
       "    <tr>\n",
       "      <th>...</th>\n",
       "      <td>...</td>\n",
       "    </tr>\n",
       "    <tr>\n",
       "      <th>2235</th>\n",
       "      <td>zai</td>\n",
       "    </tr>\n",
       "    <tr>\n",
       "      <th>2236</th>\n",
       "      <td>zalim</td>\n",
       "    </tr>\n",
       "    <tr>\n",
       "      <th>2237</th>\n",
       "      <td>zina</td>\n",
       "    </tr>\n",
       "    <tr>\n",
       "      <th>2238</th>\n",
       "      <td>zinah</td>\n",
       "    </tr>\n",
       "    <tr>\n",
       "      <th>2239</th>\n",
       "      <td>zionis</td>\n",
       "    </tr>\n",
       "  </tbody>\n",
       "</table>\n",
       "<p>2240 rows × 1 columns</p>\n",
       "</div>"
      ],
      "text/plain": [
       "     negative_word\n",
       "0             abai\n",
       "1         abnormal\n",
       "2           absurd\n",
       "3             abur\n",
       "4             acak\n",
       "...            ...\n",
       "2235           zai\n",
       "2236         zalim\n",
       "2237          zina\n",
       "2238         zinah\n",
       "2239        zionis\n",
       "\n",
       "[2240 rows x 1 columns]"
      ]
     },
     "execution_count": 5,
     "metadata": {},
     "output_type": "execute_result"
    }
   ],
   "source": [
    "dataFrameKataNegatif = pandas.read_excel('tbl_lexicon_negative - 2240.xls')\n",
    "\n",
    "dataFrameKataNegatif"
   ]
  },
  {
   "cell_type": "markdown",
   "metadata": {},
   "source": [
    "## Sampel Pelabelan Data"
   ]
  },
  {
   "cell_type": "code",
   "execution_count": 6,
   "metadata": {},
   "outputs": [],
   "source": [
    "textTweet = 'ekonomi indonesia sedang dalam tumbuh yang bangga kurang acak'"
   ]
  },
  {
   "cell_type": "markdown",
   "metadata": {},
   "source": [
    "#### 1. Menghitung jumlah kata positif"
   ]
  },
  {
   "cell_type": "code",
   "execution_count": 7,
   "metadata": {},
   "outputs": [
    {
     "name": "stdout",
     "output_type": "stream",
     "text": [
      "dalam, tumbuh, bangga, \n",
      "\n",
      "3\n"
     ]
    }
   ],
   "source": [
    "jumlahPositif = 0\n",
    "\n",
    "for kataTweet in textTweet.split():    # tokenizing\n",
    "    # Hitung jumlah kata positif\n",
    "    for kataPositif in dataFrameKataPositif['positive_word']:    # loop data kata positif\n",
    "        if kataTweet == kataPositif:\n",
    "            jumlahPositif += 1\n",
    "            print(kataPositif, end=', ')     # mencetak kata positif yang ditemukan\n",
    "            break\n",
    "\n",
    "print('\\n')\n",
    "print(jumlahPositif)"
   ]
  },
  {
   "cell_type": "markdown",
   "metadata": {},
   "source": [
    "#### 2. Menghitung jumlah kata negatif"
   ]
  },
  {
   "cell_type": "code",
   "execution_count": 8,
   "metadata": {},
   "outputs": [
    {
     "name": "stdout",
     "output_type": "stream",
     "text": [
      "kurang, acak, \n",
      "\n",
      "2\n"
     ]
    }
   ],
   "source": [
    "jumlahNegatif = 0\n",
    "\n",
    "for kataTweet in textTweet.split():    # tokenizing\n",
    "    # Hitung jumlah kata negaitf\n",
    "    for kataNegatif in dataFrameKataNegatif['negative_word']:    # loop data kata negatif\n",
    "        if kataTweet == kataNegatif:\n",
    "            jumlahNegatif += 1\n",
    "            print(kataNegatif, end=', ')     # mencetak kata negatif yang ditemukan\n",
    "            break\n",
    "\n",
    "print('\\n')\n",
    "print(jumlahNegatif)"
   ]
  },
  {
   "cell_type": "markdown",
   "metadata": {},
   "source": [
    "#### 3. Menghitung Skor\n",
    "### 𝑆𝑘𝑜𝑟 = (∑ 𝐾𝑎𝑡𝑎 𝑃𝑜𝑠𝑖𝑡𝑖𝑓 ) − (∑ 𝐾𝑎𝑡𝑎 𝑁𝑒𝑔𝑎𝑡𝑖𝑓 )"
   ]
  },
  {
   "cell_type": "code",
   "execution_count": 9,
   "metadata": {},
   "outputs": [
    {
     "name": "stdout",
     "output_type": "stream",
     "text": [
      "1\n"
     ]
    }
   ],
   "source": [
    "skor = 0\n",
    "\n",
    "skor = jumlahPositif - jumlahNegatif\n",
    "\n",
    "print(skor)"
   ]
  },
  {
   "cell_type": "markdown",
   "metadata": {},
   "source": [
    "#### 4. Menentukan label sentimen"
   ]
  },
  {
   "cell_type": "code",
   "execution_count": 10,
   "metadata": {},
   "outputs": [
    {
     "name": "stdout",
     "output_type": "stream",
     "text": [
      "POSITIF\n"
     ]
    }
   ],
   "source": [
    "label = ''\n",
    "\n",
    "if skor > 0:\n",
    "    label = 'POSITIF'\n",
    "elif skor < 0:\n",
    "    label = 'NEGATIF'\n",
    "else:   # skor == 0\n",
    "    label = 'NETRAL'\n",
    "\n",
    "print(label)"
   ]
  },
  {
   "cell_type": "markdown",
   "metadata": {},
   "source": [
    "\n",
    "# [Bagian Utama] Pelabelan Data\n"
   ]
  },
  {
   "cell_type": "markdown",
   "metadata": {},
   "source": [
    "#### Import Data Yang Akan Diberkan Label"
   ]
  },
  {
   "cell_type": "code",
   "execution_count": 11,
   "metadata": {},
   "outputs": [
    {
     "data": {
      "text/html": [
       "<div>\n",
       "<style scoped>\n",
       "    .dataframe tbody tr th:only-of-type {\n",
       "        vertical-align: middle;\n",
       "    }\n",
       "\n",
       "    .dataframe tbody tr th {\n",
       "        vertical-align: top;\n",
       "    }\n",
       "\n",
       "    .dataframe thead th {\n",
       "        text-align: right;\n",
       "    }\n",
       "</style>\n",
       "<table border=\"1\" class=\"dataframe\">\n",
       "  <thead>\n",
       "    <tr style=\"text-align: right;\">\n",
       "      <th></th>\n",
       "      <th>id</th>\n",
       "      <th>username</th>\n",
       "      <th>tweet</th>\n",
       "      <th>dibuat pada</th>\n",
       "      <th>text bersih</th>\n",
       "    </tr>\n",
       "  </thead>\n",
       "  <tbody>\n",
       "    <tr>\n",
       "      <th>0</th>\n",
       "      <td>1391661396710990080</td>\n",
       "      <td>mainanbukuanak</td>\n",
       "      <td>Seri Adab Berbicara - Diskon 20% menjadi Rp.20...</td>\n",
       "      <td>Mon May 10 07:48:27 +0000 2021</td>\n",
       "      <td>seri adab bicara diskon jadi rp gratis ongkos ...</td>\n",
       "    </tr>\n",
       "    <tr>\n",
       "      <th>1</th>\n",
       "      <td>1391622121260944896</td>\n",
       "      <td>mainanbukuanak</td>\n",
       "      <td>Seri Adab Bepergian - Diskon 20% menjadi Rp.20...</td>\n",
       "      <td>Mon May 10 05:12:23 +0000 2021</td>\n",
       "      <td>seri adab pergi diskon jadi rp gratis ongkos k...</td>\n",
       "    </tr>\n",
       "    <tr>\n",
       "      <th>2</th>\n",
       "      <td>1391620064755912960</td>\n",
       "      <td>kelaskitadotcom</td>\n",
       "      <td>Minum aer di pinggir kota (cakep)\\nAda THR nih...</td>\n",
       "      <td>Mon May 10 05:04:13 +0000 2021</td>\n",
       "      <td>minum aer pinggir kota cakep thr kelaskita cek...</td>\n",
       "    </tr>\n",
       "    <tr>\n",
       "      <th>3</th>\n",
       "      <td>1391585265995588096</td>\n",
       "      <td>mainanbukuanak</td>\n",
       "      <td>Seri Adab Belajar - Diskon 20% menjadi Rp.2000...</td>\n",
       "      <td>Mon May 10 02:45:56 +0000 2021</td>\n",
       "      <td>seri adab ajar diskon jadi rp gratis ongkos ki...</td>\n",
       "    </tr>\n",
       "    <tr>\n",
       "      <th>4</th>\n",
       "      <td>1391581883310345984</td>\n",
       "      <td>diskominfolutim</td>\n",
       "      <td>Optimalkan Program Proritas, Bupati Budiman Fo...</td>\n",
       "      <td>Mon May 10 02:32:29 +0000 2021</td>\n",
       "      <td>optimal program proritas bupati budiman fokus ...</td>\n",
       "    </tr>\n",
       "  </tbody>\n",
       "</table>\n",
       "</div>"
      ],
      "text/plain": [
       "                    id         username  \\\n",
       "0  1391661396710990080   mainanbukuanak   \n",
       "1  1391622121260944896   mainanbukuanak   \n",
       "2  1391620064755912960  kelaskitadotcom   \n",
       "3  1391585265995588096   mainanbukuanak   \n",
       "4  1391581883310345984  diskominfolutim   \n",
       "\n",
       "                                               tweet  \\\n",
       "0  Seri Adab Berbicara - Diskon 20% menjadi Rp.20...   \n",
       "1  Seri Adab Bepergian - Diskon 20% menjadi Rp.20...   \n",
       "2  Minum aer di pinggir kota (cakep)\\nAda THR nih...   \n",
       "3  Seri Adab Belajar - Diskon 20% menjadi Rp.2000...   \n",
       "4  Optimalkan Program Proritas, Bupati Budiman Fo...   \n",
       "\n",
       "                      dibuat pada  \\\n",
       "0  Mon May 10 07:48:27 +0000 2021   \n",
       "1  Mon May 10 05:12:23 +0000 2021   \n",
       "2  Mon May 10 05:04:13 +0000 2021   \n",
       "3  Mon May 10 02:45:56 +0000 2021   \n",
       "4  Mon May 10 02:32:29 +0000 2021   \n",
       "\n",
       "                                         text bersih  \n",
       "0  seri adab bicara diskon jadi rp gratis ongkos ...  \n",
       "1  seri adab pergi diskon jadi rp gratis ongkos k...  \n",
       "2  minum aer pinggir kota cakep thr kelaskita cek...  \n",
       "3  seri adab ajar diskon jadi rp gratis ongkos ki...  \n",
       "4  optimal program proritas bupati budiman fokus ...  "
      ]
     },
     "execution_count": 11,
     "metadata": {},
     "output_type": "execute_result"
    }
   ],
   "source": [
    "dataFramePreprocessing = pandas.read_excel('preprocessing.xls')\n",
    "\n",
    "dataFramePreprocessing"
   ]
  },
  {
   "cell_type": "markdown",
   "metadata": {},
   "source": [
    "#### Program utama pelabel data"
   ]
  },
  {
   "cell_type": "code",
   "execution_count": 12,
   "metadata": {},
   "outputs": [
    {
     "data": {
      "text/plain": [
       "['POSITIF', 'NEGATIF', 'NETRAL', 'NETRAL', 'POSITIF']"
      ]
     },
     "execution_count": 12,
     "metadata": {},
     "output_type": "execute_result"
    }
   ],
   "source": [
    "labelType = []\n",
    "\n",
    "for tweet in dataFramePreprocessing['text bersih']:\n",
    "    \n",
    "    jumlahPositif = 0\n",
    "    jumlahNegatif = 0\n",
    "    skor = 0\n",
    "    label = ''\n",
    "    \n",
    "    for kataTweet in tweet.split():\n",
    "    \n",
    "        # Hitung jumlah kata positif\n",
    "        for kataPositif in dataFrameKataPositif['positive_word']:    # loop data kata positif\n",
    "            if kataTweet == kataPositif:\n",
    "                jumlahPositif += 1\n",
    "                break\n",
    "    \n",
    "        # Hitung jumlah kata negatif\n",
    "        for kataNegatif in dataFrameKataNegatif['negative_word']:    # loop data kata negatif\n",
    "            if kataTweet == kataNegatif:\n",
    "                jumlahNegatif += 1\n",
    "                break\n",
    "    \n",
    "    # hitung skor\n",
    "    skor = jumlahPositif - jumlahNegatif\n",
    "    \n",
    "    # tentukan label\n",
    "    if skor > 0:\n",
    "        label = 'POSITIF'\n",
    "    elif skor < 0:\n",
    "        label = 'NEGATIF'\n",
    "    else:    # skor == 0\n",
    "        label = 'NETRAL'\n",
    "    \n",
    "    \n",
    "    labelType.append( label )\n",
    "\n",
    "    \n",
    "labelType"
   ]
  },
  {
   "cell_type": "markdown",
   "metadata": {},
   "source": [
    "#### Sisipkan label pada file excel"
   ]
  },
  {
   "cell_type": "code",
   "execution_count": 13,
   "metadata": {},
   "outputs": [
    {
     "data": {
      "text/html": [
       "<div>\n",
       "<style scoped>\n",
       "    .dataframe tbody tr th:only-of-type {\n",
       "        vertical-align: middle;\n",
       "    }\n",
       "\n",
       "    .dataframe tbody tr th {\n",
       "        vertical-align: top;\n",
       "    }\n",
       "\n",
       "    .dataframe thead th {\n",
       "        text-align: right;\n",
       "    }\n",
       "</style>\n",
       "<table border=\"1\" class=\"dataframe\">\n",
       "  <thead>\n",
       "    <tr style=\"text-align: right;\">\n",
       "      <th></th>\n",
       "      <th>id</th>\n",
       "      <th>username</th>\n",
       "      <th>tweet</th>\n",
       "      <th>dibuat pada</th>\n",
       "      <th>text bersih</th>\n",
       "      <th>label sentimen</th>\n",
       "    </tr>\n",
       "  </thead>\n",
       "  <tbody>\n",
       "    <tr>\n",
       "      <th>0</th>\n",
       "      <td>1391661396710990080</td>\n",
       "      <td>mainanbukuanak</td>\n",
       "      <td>Seri Adab Berbicara - Diskon 20% menjadi Rp.20...</td>\n",
       "      <td>Mon May 10 07:48:27 +0000 2021</td>\n",
       "      <td>seri adab bicara diskon jadi rp gratis ongkos ...</td>\n",
       "      <td>POSITIF</td>\n",
       "    </tr>\n",
       "    <tr>\n",
       "      <th>1</th>\n",
       "      <td>1391622121260944896</td>\n",
       "      <td>mainanbukuanak</td>\n",
       "      <td>Seri Adab Bepergian - Diskon 20% menjadi Rp.20...</td>\n",
       "      <td>Mon May 10 05:12:23 +0000 2021</td>\n",
       "      <td>seri adab pergi diskon jadi rp gratis ongkos k...</td>\n",
       "      <td>NEGATIF</td>\n",
       "    </tr>\n",
       "    <tr>\n",
       "      <th>2</th>\n",
       "      <td>1391620064755912960</td>\n",
       "      <td>kelaskitadotcom</td>\n",
       "      <td>Minum aer di pinggir kota (cakep)\\nAda THR nih...</td>\n",
       "      <td>Mon May 10 05:04:13 +0000 2021</td>\n",
       "      <td>minum aer pinggir kota cakep thr kelaskita cek...</td>\n",
       "      <td>NETRAL</td>\n",
       "    </tr>\n",
       "    <tr>\n",
       "      <th>3</th>\n",
       "      <td>1391585265995588096</td>\n",
       "      <td>mainanbukuanak</td>\n",
       "      <td>Seri Adab Belajar - Diskon 20% menjadi Rp.2000...</td>\n",
       "      <td>Mon May 10 02:45:56 +0000 2021</td>\n",
       "      <td>seri adab ajar diskon jadi rp gratis ongkos ki...</td>\n",
       "      <td>NETRAL</td>\n",
       "    </tr>\n",
       "    <tr>\n",
       "      <th>4</th>\n",
       "      <td>1391581883310345984</td>\n",
       "      <td>diskominfolutim</td>\n",
       "      <td>Optimalkan Program Proritas, Bupati Budiman Fo...</td>\n",
       "      <td>Mon May 10 02:32:29 +0000 2021</td>\n",
       "      <td>optimal program proritas bupati budiman fokus ...</td>\n",
       "      <td>POSITIF</td>\n",
       "    </tr>\n",
       "  </tbody>\n",
       "</table>\n",
       "</div>"
      ],
      "text/plain": [
       "                    id         username  \\\n",
       "0  1391661396710990080   mainanbukuanak   \n",
       "1  1391622121260944896   mainanbukuanak   \n",
       "2  1391620064755912960  kelaskitadotcom   \n",
       "3  1391585265995588096   mainanbukuanak   \n",
       "4  1391581883310345984  diskominfolutim   \n",
       "\n",
       "                                               tweet  \\\n",
       "0  Seri Adab Berbicara - Diskon 20% menjadi Rp.20...   \n",
       "1  Seri Adab Bepergian - Diskon 20% menjadi Rp.20...   \n",
       "2  Minum aer di pinggir kota (cakep)\\nAda THR nih...   \n",
       "3  Seri Adab Belajar - Diskon 20% menjadi Rp.2000...   \n",
       "4  Optimalkan Program Proritas, Bupati Budiman Fo...   \n",
       "\n",
       "                      dibuat pada  \\\n",
       "0  Mon May 10 07:48:27 +0000 2021   \n",
       "1  Mon May 10 05:12:23 +0000 2021   \n",
       "2  Mon May 10 05:04:13 +0000 2021   \n",
       "3  Mon May 10 02:45:56 +0000 2021   \n",
       "4  Mon May 10 02:32:29 +0000 2021   \n",
       "\n",
       "                                         text bersih label sentimen  \n",
       "0  seri adab bicara diskon jadi rp gratis ongkos ...        POSITIF  \n",
       "1  seri adab pergi diskon jadi rp gratis ongkos k...        NEGATIF  \n",
       "2  minum aer pinggir kota cakep thr kelaskita cek...         NETRAL  \n",
       "3  seri adab ajar diskon jadi rp gratis ongkos ki...         NETRAL  \n",
       "4  optimal program proritas bupati budiman fokus ...        POSITIF  "
      ]
     },
     "execution_count": 13,
     "metadata": {},
     "output_type": "execute_result"
    }
   ],
   "source": [
    "dataFramePreprocessing['label sentimen'] = labelType\n",
    "\n",
    "dataFramePreprocessing\n",
    "\n",
    "# dataFramePreprocessing.to_excel('labeling.xlsx', index=False)"
   ]
  },
  {
   "cell_type": "code",
   "execution_count": null,
   "metadata": {},
   "outputs": [],
   "source": []
  }
 ],
 "metadata": {
  "kernelspec": {
   "display_name": "Python 3",
   "language": "python",
   "name": "python3"
  },
  "language_info": {
   "codemirror_mode": {
    "name": "ipython",
    "version": 3
   },
   "file_extension": ".py",
   "mimetype": "text/x-python",
   "name": "python",
   "nbconvert_exporter": "python",
   "pygments_lexer": "ipython3",
   "version": "3.8.5"
  }
 },
 "nbformat": 4,
 "nbformat_minor": 2
}
